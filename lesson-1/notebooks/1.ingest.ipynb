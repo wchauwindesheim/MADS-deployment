{
 "cells": [
  {
   "cell_type": "code",
   "execution_count": 2,
   "metadata": {},
   "outputs": [],
   "source": [
    "import requests\n",
    "from pathlib import Path\n",
    "from loguru import logger\n",
    "\n",
    "\n",
    "def download(url, datafile: Path):\n",
    "    datadir = datafile.parent\n",
    "    if not datadir.exists():\n",
    "        logger.info(f\"Creating directory {datadir}\")\n",
    "        datadir.mkdir(parents=True)\n",
    "\n",
    "    if not datafile.exists():\n",
    "        logger.info(f\"Downloading {url} to {datafile}\")\n",
    "        response = requests.get(url)\n",
    "        with datafile.open(\"wb\") as f:\n",
    "            f.write(response.content)\n",
    "    else:\n",
    "        logger.info(f\"File {datafile} already exists, skipping download\")"
   ]
  },
  {
   "cell_type": "markdown",
   "metadata": {},
   "source": [
    "This is a simple script to download files from a given URL. It uses the `requests` library to download the files. "
   ]
  },
  {
   "cell_type": "code",
   "execution_count": null,
   "metadata": {},
   "outputs": [],
   "source": [
    "url = \"https://raw.githubusercontent.com/jkingsman/JSON-QAnon/main/posts.json\"\n",
    "datadir = Path(\"data/raw\")\n",
    "datafile = datadir / Path(\"posts.json\")\n",
    "download(url, datafile)"
   ]
  },
  {
   "cell_type": "markdown",
   "metadata": {},
   "source": [
    "It is also possible to use it with a forloop to download multiple files from a list of URLs."
   ]
  },
  {
   "cell_type": "code",
   "execution_count": null,
   "metadata": {},
   "outputs": [],
   "source": [
    "import re\n",
    "books = [\"Genesis\", \"Exodus\", \"Leviticus\", \"Numbers\", \"Deuteronomy\", \"Joshua\",\n",
    "    \"Judges\",\n",
    "    \"1%20Samuel\",\n",
    "    \"2%20Samuel\",\n",
    "    \"1%20Kings\",\n",
    "    \"2%20Kings\",\n",
    "    \"Isaiah\",\n",
    "    \"Jeremiah\",\n",
    "    \"Ezekiel\",\n",
    "    \"Hosea\",\n",
    "    \"Joel\",\n",
    "    \"Amos\",\n",
    "    \"Obadiah\",\n",
    "    \"Jonah\",\n",
    "    \"Micah\",\n",
    "    \"Nahum\",\n",
    "    \"Habakkuk\",\n",
    "    \"Zephaniah\",\n",
    "    \"Haggai\",\n",
    "    \"Zechariah\",\n",
    "    \"Malachi\"\n",
    "]\n",
    "\n",
    "\n",
    "for book in books:\n",
    "    url = f\"https://www.tanach.us/Server.txt?{book}*&content=Accents\"\n",
    "    filename = re.sub(r\"%20\", \"_\", book)\n",
    "    datafile = datadir / \"tanach\" / Path(f\"{filename}.txt\")\n",
    "    download(url, datafile)\n"
   ]
  }
 ],
 "metadata": {
  "kernelspec": {
   "display_name": ".venv",
   "language": "python",
   "name": "python3"
  },
  "language_info": {
   "codemirror_mode": {
    "name": "ipython",
    "version": 3
   },
   "file_extension": ".py",
   "mimetype": "text/x-python",
   "name": "python",
   "nbconvert_exporter": "python",
   "pygments_lexer": "ipython3",
   "version": "3.12.7"
  }
 },
 "nbformat": 4,
 "nbformat_minor": 2
}
