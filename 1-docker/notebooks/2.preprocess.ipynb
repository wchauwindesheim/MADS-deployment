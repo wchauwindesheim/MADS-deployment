{
 "cells": [
  {
   "cell_type": "code",
   "execution_count": null,
   "metadata": {},
   "outputs": [],
   "source": [
    "from pathlib import Path\n",
    "from loguru import logger\n",
    "datadir = Path('data/raw').resolve()\n",
    "datadir.exists()"
   ]
  },
  {
   "cell_type": "markdown",
   "metadata": {},
   "source": [
    "# Qanon"
   ]
  },
  {
   "cell_type": "markdown",
   "metadata": {},
   "source": [
    "QAnon emerged on 4chan in 2017 as anonymous posts (\"Q drops\") claiming to be from a government insider exposing a supposed deep state conspiracy. The poster(s) alleged that Donald Trump was fighting a secret war against corrupt elites.\n",
    "The movement gained significant following and influenced real-world events, including:\n",
    "\n",
    "- The January 6th Capitol riot, where many participants expressed QAnon beliefs\n",
    "- Multiple incidents of violence/threats by believers\n",
    "- Spread of misinformation during COVID-19 pandemic"
   ]
  },
  {
   "cell_type": "markdown",
   "metadata": {},
   "source": [
    "<img src=\"img/Qanon.png\" width=450 height=400 />"
   ]
  },
  {
   "cell_type": "markdown",
   "metadata": {},
   "source": [
    "We will attempt to analyze authorship, using basic NLP techniques. This is valuable as it could provide insights into the origins and evolution of this influential movement.\n",
    "\n",
    "So lets preprocess the data, by adding and timebins based on the image shown above."
   ]
  },
  {
   "cell_type": "code",
   "execution_count": null,
   "metadata": {},
   "outputs": [],
   "source": [
    "from pandas import json_normalize\n",
    "import json\n",
    "\n",
    "datafile = datadir / 'posts.json'\n",
    "with datafile.open() as f:\n",
    "    df = json_normalize(json.load(f)[\"posts\"], sep=\"_\")"
   ]
  },
  {
   "cell_type": "code",
   "execution_count": null,
   "metadata": {},
   "outputs": [],
   "source": [
    "df.head()"
   ]
  },
  {
   "cell_type": "code",
   "execution_count": null,
   "metadata": {},
   "outputs": [],
   "source": [
    "from datetime import datetime\n",
    "import pandas as pd\n",
    "import re\n",
    "\n",
    "def bin_time(time):\n",
    "    if time < datetime(2017, 12, 1):\n",
    "        return 0\n",
    "    elif time < datetime(2018, 1, 1):\n",
    "        return 1\n",
    "    elif time < datetime(2018, 8, 10):\n",
    "        return 2\n",
    "    elif time < datetime(2019, 8, 1):\n",
    "        return 3\n",
    "    else:\n",
    "        return 4\n",
    "\n",
    "def remove_url(text):\n",
    "    return re.sub(r'^https?:\\/\\/.*[\\r\\n]*', '', text)\n",
    "\n",
    "df[\"time\"] = df[\"post_metadata_time\"].apply(pd.to_datetime, unit=\"s\")\n",
    "df[\"bintime\"] = df[\"time\"].apply(lambda x : bin_time(x))\n",
    "df[\"text\"] = df[\"text\"].apply(lambda x : str(x).replace(\"\\n\", \" \"))\n",
    "df[\"text\"] = df[\"text\"].apply(lambda x : remove_url(x))\n",
    "df[\"text\"] = df[\"text\"].apply(lambda x : x.lower())\n",
    "df['size'] = df['text'].apply(lambda x : len(str(x)))\n",
    "df = df[df[\"size\"] > 50]\n",
    "df.reset_index(inplace=True, drop=True)"
   ]
  },
  {
   "cell_type": "code",
   "execution_count": null,
   "metadata": {},
   "outputs": [],
   "source": [
    "processeddir = Path(\"data/processed\").resolve()\n",
    "if not processeddir.exists():\n",
    "    logger.info(f\"Creating directory {processeddir}\")\n",
    "    processeddir.mkdir(parents=True)\n",
    "outputfile = processeddir / Path(\"posts.parquet\")\n",
    "df.to_parquet(outputfile)"
   ]
  }
 ],
 "metadata": {
  "kernelspec": {
   "display_name": ".venv",
   "language": "python",
   "name": "python3"
  },
  "language_info": {
   "codemirror_mode": {
    "name": "ipython",
    "version": 3
   },
   "file_extension": ".py",
   "mimetype": "text/x-python",
   "name": "python",
   "nbconvert_exporter": "python",
   "pygments_lexer": "ipython3",
   "version": "3.12.7"
  }
 },
 "nbformat": 4,
 "nbformat_minor": 2
}
