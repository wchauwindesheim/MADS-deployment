{
 "cells": [
  {
   "cell_type": "code",
   "execution_count": null,
   "metadata": {},
   "outputs": [],
   "source": [
    "from model import TextClustering"
   ]
  },
  {
   "cell_type": "markdown",
   "metadata": {},
   "source": [
    "Let's load the processed data"
   ]
  },
  {
   "cell_type": "code",
   "execution_count": 3,
   "metadata": {},
   "outputs": [
    {
     "data": {
      "text/html": [
       "<div>\n",
       "<style scoped>\n",
       "    .dataframe tbody tr th:only-of-type {\n",
       "        vertical-align: middle;\n",
       "    }\n",
       "\n",
       "    .dataframe tbody tr th {\n",
       "        vertical-align: top;\n",
       "    }\n",
       "\n",
       "    .dataframe thead th {\n",
       "        text-align: right;\n",
       "    }\n",
       "</style>\n",
       "<table border=\"1\" class=\"dataframe\">\n",
       "  <thead>\n",
       "    <tr style=\"text-align: right;\">\n",
       "      <th></th>\n",
       "      <th>text</th>\n",
       "      <th>referenced_posts</th>\n",
       "      <th>post_metadata_author</th>\n",
       "      <th>post_metadata_source_board</th>\n",
       "      <th>post_metadata_source_site</th>\n",
       "      <th>post_metadata_time</th>\n",
       "      <th>post_metadata_id</th>\n",
       "      <th>images</th>\n",
       "      <th>post_metadata_tripcode</th>\n",
       "      <th>post_metadata_source_link</th>\n",
       "      <th>time</th>\n",
       "      <th>bintime</th>\n",
       "      <th>size</th>\n",
       "    </tr>\n",
       "  </thead>\n",
       "  <tbody>\n",
       "    <tr>\n",
       "      <th>0</th>\n",
       "      <td>&gt;&gt;147005381 hrc extradition already in motion ...</td>\n",
       "      <td>[{\"reference\":\"&gt;&gt;147005381\",\"text\":\"&gt;&gt;14698163...</td>\n",
       "      <td>Anonymous</td>\n",
       "      <td>/pol</td>\n",
       "      <td>4ch</td>\n",
       "      <td>1509223468</td>\n",
       "      <td>1</td>\n",
       "      <td>None</td>\n",
       "      <td>None</td>\n",
       "      <td>None</td>\n",
       "      <td>2017-10-28 20:44:28</td>\n",
       "      <td>0</td>\n",
       "      <td>403</td>\n",
       "    </tr>\n",
       "    <tr>\n",
       "      <th>1</th>\n",
       "      <td>mockingbird  hrc detained, not arrested (yet)....</td>\n",
       "      <td>None</td>\n",
       "      <td>Anonymous</td>\n",
       "      <td>/pol</td>\n",
       "      <td>4ch</td>\n",
       "      <td>1509228948</td>\n",
       "      <td>2</td>\n",
       "      <td>None</td>\n",
       "      <td>None</td>\n",
       "      <td>None</td>\n",
       "      <td>2017-10-28 22:15:48</td>\n",
       "      <td>0</td>\n",
       "      <td>1139</td>\n",
       "    </tr>\n",
       "    <tr>\n",
       "      <th>2</th>\n",
       "      <td>open your eyes. it finally came out that rod/b...</td>\n",
       "      <td>None</td>\n",
       "      <td>Anonymous</td>\n",
       "      <td>/pol</td>\n",
       "      <td>4ch</td>\n",
       "      <td>1509292027</td>\n",
       "      <td>3</td>\n",
       "      <td>None</td>\n",
       "      <td>None</td>\n",
       "      <td>None</td>\n",
       "      <td>2017-10-29 15:47:07</td>\n",
       "      <td>0</td>\n",
       "      <td>690</td>\n",
       "    </tr>\n",
       "    <tr>\n",
       "      <th>3</th>\n",
       "      <td>some of us come here to drop crumbs, just crum...</td>\n",
       "      <td>None</td>\n",
       "      <td>Anonymous</td>\n",
       "      <td>/pol</td>\n",
       "      <td>4ch</td>\n",
       "      <td>1509293500</td>\n",
       "      <td>4</td>\n",
       "      <td>None</td>\n",
       "      <td>None</td>\n",
       "      <td>None</td>\n",
       "      <td>2017-10-29 16:11:40</td>\n",
       "      <td>0</td>\n",
       "      <td>910</td>\n",
       "    </tr>\n",
       "    <tr>\n",
       "      <th>4</th>\n",
       "      <td>follow the money, it’s the key. what is pelosi...</td>\n",
       "      <td>None</td>\n",
       "      <td>Anonymous</td>\n",
       "      <td>/pol</td>\n",
       "      <td>4ch</td>\n",
       "      <td>1509295638</td>\n",
       "      <td>5</td>\n",
       "      <td>None</td>\n",
       "      <td>None</td>\n",
       "      <td>None</td>\n",
       "      <td>2017-10-29 16:47:18</td>\n",
       "      <td>0</td>\n",
       "      <td>889</td>\n",
       "    </tr>\n",
       "  </tbody>\n",
       "</table>\n",
       "</div>"
      ],
      "text/plain": [
       "                                                text  \\\n",
       "0  >>147005381 hrc extradition already in motion ...   \n",
       "1  mockingbird  hrc detained, not arrested (yet)....   \n",
       "2  open your eyes. it finally came out that rod/b...   \n",
       "3  some of us come here to drop crumbs, just crum...   \n",
       "4  follow the money, it’s the key. what is pelosi...   \n",
       "\n",
       "                                    referenced_posts post_metadata_author  \\\n",
       "0  [{\"reference\":\">>147005381\",\"text\":\">>14698163...            Anonymous   \n",
       "1                                               None            Anonymous   \n",
       "2                                               None            Anonymous   \n",
       "3                                               None            Anonymous   \n",
       "4                                               None            Anonymous   \n",
       "\n",
       "  post_metadata_source_board post_metadata_source_site  post_metadata_time  \\\n",
       "0                       /pol                       4ch          1509223468   \n",
       "1                       /pol                       4ch          1509228948   \n",
       "2                       /pol                       4ch          1509292027   \n",
       "3                       /pol                       4ch          1509293500   \n",
       "4                       /pol                       4ch          1509295638   \n",
       "\n",
       "   post_metadata_id images post_metadata_tripcode post_metadata_source_link  \\\n",
       "0                 1   None                   None                      None   \n",
       "1                 2   None                   None                      None   \n",
       "2                 3   None                   None                      None   \n",
       "3                 4   None                   None                      None   \n",
       "4                 5   None                   None                      None   \n",
       "\n",
       "                 time  bintime  size  \n",
       "0 2017-10-28 20:44:28        0   403  \n",
       "1 2017-10-28 22:15:48        0  1139  \n",
       "2 2017-10-29 15:47:07        0   690  \n",
       "3 2017-10-29 16:11:40        0   910  \n",
       "4 2017-10-29 16:47:18        0   889  "
      ]
     },
     "execution_count": 3,
     "metadata": {},
     "output_type": "execute_result"
    }
   ],
   "source": [
    "import pandas as pd\n",
    "from pathlib import Path\n",
    "\n",
    "datadir = Path(\"data/processed\")\n",
    "if not datadir.exists():\n",
    "    # logger.info(f\"Creating directory {datadir}\")\n",
    "    datadir.mkdir(parents=True)\n",
    "datafile = datadir / Path(\"posts.parquet\")\n",
    "df = pd.read_parquet(datafile)\n",
    "df.head()"
   ]
  },
  {
   "cell_type": "markdown",
   "metadata": {},
   "source": [
    "And run the algorithm"
   ]
  },
  {
   "cell_type": "code",
   "execution_count": null,
   "metadata": {},
   "outputs": [],
   "source": [
    "clustering = TextClustering()"
   ]
  },
  {
   "cell_type": "code",
   "execution_count": null,
   "metadata": {},
   "outputs": [],
   "source": [
    "import numpy as np\n",
    "k = 100\n",
    "X = clustering(df[\"text\"], k=k, batch=True, method=\"PCA\")\n",
    "X.shape"
   ]
  },
  {
   "cell_type": "code",
   "execution_count": null,
   "metadata": {},
   "outputs": [],
   "source": [
    "labels = clustering.get_labels(df)\n",
    "labels"
   ]
  },
  {
   "cell_type": "code",
   "execution_count": null,
   "metadata": {},
   "outputs": [],
   "source": [
    "import seaborn as sns\n",
    "import matplotlib.pyplot as plt\n",
    "\n",
    "plt.figure(figsize=(10, 10))\n",
    "sns.scatterplot(x=X[:, 0], y=X[:, 1], hue=labels)\n",
    "\n",
    "imgdir = Path(\"../img\")\n",
    "if not imgdir.exists():\n",
    "    print(f\"Creating directory {imgdir}\")\n",
    "    imgdir.mkdir(parents=True)\n",
    "\n",
    "imgfile = imgdir / Path(\"clustering.png\")\n",
    "plt.savefig(imgfile)"
   ]
  },
  {
   "cell_type": "code",
   "execution_count": null,
   "metadata": {},
   "outputs": [],
   "source": []
  },
  {
   "cell_type": "code",
   "execution_count": null,
   "metadata": {},
   "outputs": [],
   "source": []
  }
 ],
 "metadata": {
  "kernelspec": {
   "display_name": ".venv",
   "language": "python",
   "name": "python3"
  },
  "language_info": {
   "codemirror_mode": {
    "name": "ipython",
    "version": 3
   },
   "file_extension": ".py",
   "mimetype": "text/x-python",
   "name": "python",
   "nbconvert_exporter": "python",
   "pygments_lexer": "ipython3",
   "version": "3.12.7"
  }
 },
 "nbformat": 4,
 "nbformat_minor": 2
}
